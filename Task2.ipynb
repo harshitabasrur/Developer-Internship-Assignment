{
  "nbformat": 4,
  "nbformat_minor": 0,
  "metadata": {
    "colab": {
      "provenance": []
    },
    "kernelspec": {
      "name": "python3",
      "display_name": "Python 3"
    },
    "language_info": {
      "name": "python"
    }
  },
  "cells": [
    {
      "cell_type": "markdown",
      "source": [
        "# JSON Schema Classification & Information Extraction"
      ],
      "metadata": {
        "id": "OVjnV3liurX1"
      }
    },
    {
      "cell_type": "code",
      "source": [
        "from pydantic import BaseModel, EmailStr, ValidationError\n",
        "from typing import Optional\n",
        "from openai import OpenAI\n",
        "import json\n",
        "\n",
        "class ChatInfo(BaseModel):\n",
        "    name: Optional[str] = None\n",
        "    email: Optional[EmailStr] = None\n",
        "    phone: Optional[str] = None\n",
        "    location: Optional[str] = None\n",
        "    age: Optional[int] = None"
      ],
      "metadata": {
        "id": "ULNNEmFKI-hk"
      },
      "execution_count": 41,
      "outputs": []
    },
    {
      "cell_type": "code",
      "source": [
        "client = OpenAI(\n",
        "    api_key=\"\",\n",
        "    base_url=\"https://api.groq.com/openai/v1\"\n",
        ")\n",
        "\n"
      ],
      "metadata": {
        "id": "HN0pfdInuwCc"
      },
      "execution_count": 42,
      "outputs": []
    },
    {
      "cell_type": "code",
      "source": [
        "\n",
        "extract_user_info_schema = {\n",
        "    \"name\": \"extract_user_info\",\n",
        "    \"description\": \"Extract available user details from chat messages. Only extract information that is explicitly mentioned.\",\n",
        "    \"parameters\": {\n",
        "        \"type\": \"object\",\n",
        "        \"properties\": {\n",
        "            \"name\": {\n",
        "                \"type\": \"string\",\n",
        "                \"description\": \"Full name of the user (only if explicitly mentioned)\"\n",
        "            },\n",
        "            \"email\": {\n",
        "                \"type\": \"string\",\n",
        "                \"description\": \"User's email address (only if explicitly mentioned)\"\n",
        "            },\n",
        "            \"phone\": {\n",
        "                \"type\": \"string\",\n",
        "                \"description\": \"User's phone number (only if explicitly mentioned)\"\n",
        "            },\n",
        "            \"location\": {\n",
        "                \"type\": \"string\",\n",
        "                \"description\": \"User's location - city, state, or country (only if explicitly mentioned)\"\n",
        "            },\n",
        "            \"age\": {\n",
        "                \"type\": \"integer\",\n",
        "                \"description\": \"User's age (only if explicitly mentioned)\"\n",
        "            }\n",
        "        },\n",
        "        # to prevent hallucination\n",
        "        \"required\": []\n",
        "    }\n",
        "}\n"
      ],
      "metadata": {
        "id": "Bzvq96LkuwFP"
      },
      "execution_count": 43,
      "outputs": []
    },
    {
      "cell_type": "code",
      "source": [
        "\n",
        "def contains_user_info(chat_input: str) -> bool:\n",
        "    \"\"\"Check if the message contains any user information before attempting extraction\"\"\"\n",
        "\n",
        "    response = client.chat.completions.create(\n",
        "        model=\"llama-3.3-70b-versatile\",\n",
        "        messages=[\n",
        "            {\n",
        "                \"role\": \"system\",\n",
        "                \"content\": \"Determine if the user's message contains any personal information like name, email, phone, location, or age. Respond with only 'yes' or 'no'.\"\n",
        "            },\n",
        "            {\n",
        "                \"role\": \"user\",\n",
        "                \"content\": chat_input\n",
        "            }\n",
        "        ]\n",
        "    )\n",
        "    return response.choices[0].message.content.strip().lower() == \"yes\"\n"
      ],
      "metadata": {
        "id": "efdRdPy2JJVr"
      },
      "execution_count": 47,
      "outputs": []
    },
    {
      "cell_type": "code",
      "source": [
        "def extract_user_info_safely(chat_input: str) -> ChatInfo:\n",
        "    # First check if there's any user info to extract\n",
        "    if not contains_user_info(chat_input):\n",
        "        print(\"No user information detected in message\")\n",
        "        return ChatInfo()\n",
        "\n",
        "    try:\n",
        "        response = client.chat.completions.create(\n",
        "            model=\"llama-3.3-70b-versatile\",\n",
        "            messages=[\n",
        "                {\n",
        "                    \"role\": \"system\",\n",
        "                    \"content\": \"You are a helpful assistant that extracts user information from messages. Only extract information that is explicitly stated. Do not guess or make up information. If information is not provided, leave those fields empty.\"\n",
        "                },\n",
        "                {\n",
        "                    \"role\": \"user\",\n",
        "                    \"content\": chat_input\n",
        "                }\n",
        "            ],\n",
        "            functions=[extract_user_info_schema],\n",
        "            function_call={\"name\": \"extract_user_info\"}\n",
        "        )\n",
        "\n",
        "        # Parse the JSON string returned by the model\n",
        "        raw_json = response.choices[0].message.function_call.arguments\n",
        "        data = json.loads(raw_json)\n",
        "\n",
        "        # Filter out empty strings and convert them to None\n",
        "        filtered_data = {k: v for k, v in data.items() if v is not None and v != \"\"}\n",
        "\n",
        "        # Validate and parse with Pydantic\n",
        "        user_info = ChatInfo(**filtered_data)\n",
        "        return user_info\n",
        "\n",
        "    except ValidationError as e:\n",
        "        print(f\"Validation error: {e}\")\n",
        "        return ChatInfo()  # Return empty ChatInfo object\n",
        "    except json.JSONDecodeError as e:\n",
        "        print(f\"JSON decode error: {e}\")\n",
        "        return ChatInfo()\n",
        "    except Exception as e:\n",
        "        print(f\"Unexpected error: {e}\")\n",
        "        return ChatInfo()\n",
        "\n"
      ],
      "metadata": {
        "id": "KTdKm4juJNg8"
      },
      "execution_count": 51,
      "outputs": []
    },
    {
      "cell_type": "code",
      "source": [
        "\n",
        "test_inputs = [\n",
        "    \"hi there\",\n",
        "    \"Hey, I'm Harshita, 21 years old, living in Gurgaon. You can email me at harshita@example.com or call me at +919876543210.\",\n",
        "    \"My name is John and I'm 25\", \"her number is 123absc\"\n",
        "]\n",
        "\n",
        "for test_input in test_inputs:\n",
        "    print(f\"\\nInput: {test_input}\")\n",
        "    result = extract_user_info_safely(test_input)\n",
        "\n",
        "    print(f\"Extracted: {result.model_dump_json(indent=2)}\")\n",
        "\n",
        "    print(f\"As dict: {result.model_dump(exclude_none=True)}\")\n",
        "    print(\"-\" * 50)"
      ],
      "metadata": {
        "id": "-Ad0XvAKuwMH",
        "colab": {
          "base_uri": "https://localhost:8080/"
        },
        "outputId": "cd278488-2ed1-4824-9a34-1211e59c76d7"
      },
      "execution_count": 56,
      "outputs": [
        {
          "output_type": "stream",
          "name": "stdout",
          "text": [
            "\n",
            "Input: hi there\n",
            "No user information detected in message\n",
            "Extracted: {\n",
            "  \"name\": null,\n",
            "  \"email\": null,\n",
            "  \"phone\": null,\n",
            "  \"location\": null,\n",
            "  \"age\": null\n",
            "}\n",
            "As dict: {}\n",
            "--------------------------------------------------\n",
            "\n",
            "Input: Hey, I'm Harshita, 21 years old, living in Gurgaon. You can email me at harshita@example.com or call me at +919876543210.\n",
            "Extracted: {\n",
            "  \"name\": \"Harshita\",\n",
            "  \"email\": \"harshita@example.com\",\n",
            "  \"phone\": \"+919876543210\",\n",
            "  \"location\": \"Gurgaon\",\n",
            "  \"age\": 21\n",
            "}\n",
            "As dict: {'name': 'Harshita', 'email': 'harshita@example.com', 'phone': '+919876543210', 'location': 'Gurgaon', 'age': 21}\n",
            "--------------------------------------------------\n",
            "\n",
            "Input: My name is John and I'm 25\n",
            "Extracted: {\n",
            "  \"name\": \"John\",\n",
            "  \"email\": null,\n",
            "  \"phone\": null,\n",
            "  \"location\": null,\n",
            "  \"age\": 25\n",
            "}\n",
            "As dict: {'name': 'John', 'age': 25}\n",
            "--------------------------------------------------\n",
            "\n",
            "Input: My name is latika my age is twenty five\n",
            "Extracted: {\n",
            "  \"name\": \"latika\",\n",
            "  \"email\": null,\n",
            "  \"phone\": null,\n",
            "  \"location\": null,\n",
            "  \"age\": 25\n",
            "}\n",
            "As dict: {'name': 'latika', 'age': 25}\n",
            "--------------------------------------------------\n",
            "\n",
            "Input: her number is 123absc\n",
            "No user information detected in message\n",
            "Extracted: {\n",
            "  \"name\": null,\n",
            "  \"email\": null,\n",
            "  \"phone\": null,\n",
            "  \"location\": null,\n",
            "  \"age\": null\n",
            "}\n",
            "As dict: {}\n",
            "--------------------------------------------------\n"
          ]
        }
      ]
    }
  ]
}